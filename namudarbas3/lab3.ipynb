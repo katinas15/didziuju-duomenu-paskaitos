{
  "cells": [
    {
      "cell_type": "code",
      "execution_count": 1,
      "source": [
        "from pyspark import SparkContext, SparkConf\r\n",
        "\r\n",
        "conf = SparkConf().setAppName('MyFirstStandaloneApp')\r\n",
        "sc = SparkContext(conf=conf)"
      ],
      "outputs": [],
      "metadata": {
        "id": "tt2CcmZ9hFLw"
      }
    },
    {
      "cell_type": "code",
      "execution_count": 6,
      "source": [
        "from pyspark.sql import SparkSession\r\n",
        "\r\n",
        "spark = SparkSession.builder.appName('Laboras3').getOrCreate()\r\n",
        "\r\n",
        "from pyspark.sql.functions import udf, log\r\n",
        "from pyspark.sql.types import *\r\n",
        "\r\n",
        "#nuo spark 3.0 \r\n",
        "# spark.conf.set(\"spark.sql.legacy.setCommandRejectsSparkCoreConfs\",\"false\")\r\n",
        "\r\n",
        "# spark.conf.set(\"spark.dynamicAllocation.enabled\", \"true\")\r\n",
        "# spark.conf.set(\"spark.executor.instances\", 8)\r\n",
        "# spark.conf.set(\"spark.executor.cores\", 8)\r\n",
        "\r\n",
        "text_file = spark.sparkContext.textFile(\"duom_full.txt\")\r\n",
        "\r\n",
        "def parsinam(line):\r\n",
        "\treturn line[2:len(line)-2].split('}}{{')\r\n",
        "\r\n",
        "def parsinam2(line):\r\n",
        "\tobjs = line.split('}{')\r\n",
        "\tk1=None\r\n",
        "\tk3=None\r\n",
        "\ttipas= None\r\n",
        "\tsvoris=None\r\n",
        "\tfor at in objs:\r\n",
        "\t\ttemp = at.split('=')\r\n",
        "\t\tif(len(temp)<2): \r\n",
        "\t\t\tbreak\r\n",
        "\t\tkey,val=at.split('=')\r\n",
        "\t\tif(key == 'marsrutas'):\r\n",
        "\t\t\tk1=val\r\n",
        "\t\tif(key == 'sustojimo data'):\r\n",
        "\t\t\tk3=val\r\n",
        "\t\tif(key == 'Masinos tipas'):\r\n",
        "\t\t\ttipas=val\r\n",
        "\t\tif(key == 'svoris'):\r\n",
        "\t\t\tsvoris=val\r\n",
        "\tif(k1!=None and k3!=None and tipas!=None and svoris!=None):\r\n",
        "\t\treturn (k1+\"_\"+k3, (float(svoris), tipas))\r\n",
        "\telse:\r\n",
        "\t\treturn (\"0\", (1, \"blogai\"))"
      ],
      "outputs": [],
      "metadata": {
        "colab": {
          "base_uri": "https://localhost:8080/"
        },
        "id": "ihotdswshGat",
        "outputId": "da8fae55-cd3a-49fe-c9e6-4708955180f8"
      }
    },
    {
      "cell_type": "code",
      "execution_count": 7,
      "source": [
        "fmap = text_file.flatMap(parsinam)\r\n",
        "\r\n",
        "aggregated_rdd = fmap.map(parsinam2) \\\r\n",
        "\t.reduceByKey(lambda a, b: (a[0] + b[0], a[1]))\\\r\n",
        "\t.filter(lambda l : l[1][1] == 'van').map(lambda t: (t[0], t[1][0]))\r\n",
        "\r\n",
        "print(aggregated_rdd.take(5))\r\n",
        "# print(mmap.collect())\r\n",
        "\r\n",
        "tipai = fmap.map(parsinam2).map(lambda t:(t[1][1],0))\\\r\n",
        "\t.reduceByKey(lambda a,b : a).map(lambda t:t[0])\r\n",
        "print(tipai.collect())"
      ],
      "outputs": [
        {
          "output_type": "error",
          "ename": "Py4JJavaError",
          "evalue": "An error occurred while calling z:org.apache.spark.api.python.PythonRDD.runJob.\n: org.apache.spark.SparkException: Job aborted due to stage failure: Task 1 in stage 2.0 failed 1 times, most recent failure: Lost task 1.0 in stage 2.0 (TID 8) (192.168.1.123 executor driver): org.apache.spark.SparkException: Python worker failed to connect back.\r\n\tat org.apache.spark.api.python.PythonWorkerFactory.createSimpleWorker(PythonWorkerFactory.scala:182)\r\n\tat org.apache.spark.api.python.PythonWorkerFactory.create(PythonWorkerFactory.scala:107)\r\n\tat org.apache.spark.SparkEnv.createPythonWorker(SparkEnv.scala:119)\r\n\tat org.apache.spark.api.python.BasePythonRunner.compute(PythonRunner.scala:145)\r\n\tat org.apache.spark.api.python.PythonRDD.compute(PythonRDD.scala:65)\r\n\tat org.apache.spark.rdd.RDD.computeOrReadCheckpoint(RDD.scala:373)\r\n\tat org.apache.spark.rdd.RDD.iterator(RDD.scala:337)\r\n\tat org.apache.spark.api.python.PairwiseRDD.compute(PythonRDD.scala:115)\r\n\tat org.apache.spark.rdd.RDD.computeOrReadCheckpoint(RDD.scala:373)\r\n\tat org.apache.spark.rdd.RDD.iterator(RDD.scala:337)\r\n\tat org.apache.spark.shuffle.ShuffleWriteProcessor.write(ShuffleWriteProcessor.scala:59)\r\n\tat org.apache.spark.scheduler.ShuffleMapTask.runTask(ShuffleMapTask.scala:99)\r\n\tat org.apache.spark.scheduler.ShuffleMapTask.runTask(ShuffleMapTask.scala:52)\r\n\tat org.apache.spark.scheduler.Task.run(Task.scala:131)\r\n\tat org.apache.spark.executor.Executor$TaskRunner.$anonfun$run$3(Executor.scala:497)\r\n\tat org.apache.spark.util.Utils$.tryWithSafeFinally(Utils.scala:1439)\r\n\tat org.apache.spark.executor.Executor$TaskRunner.run(Executor.scala:500)\r\n\tat java.util.concurrent.ThreadPoolExecutor.runWorker(ThreadPoolExecutor.java:1149)\r\n\tat java.util.concurrent.ThreadPoolExecutor$Worker.run(ThreadPoolExecutor.java:624)\r\n\tat java.lang.Thread.run(Thread.java:748)\r\nCaused by: java.net.SocketTimeoutException: Accept timed out\r\n\tat java.net.DualStackPlainSocketImpl.waitForNewConnection(Native Method)\r\n\tat java.net.DualStackPlainSocketImpl.socketAccept(DualStackPlainSocketImpl.java:131)\r\n\tat java.net.AbstractPlainSocketImpl.accept(AbstractPlainSocketImpl.java:535)\r\n\tat java.net.PlainSocketImpl.accept(PlainSocketImpl.java:189)\r\n\tat java.net.ServerSocket.implAccept(ServerSocket.java:545)\r\n\tat java.net.ServerSocket.accept(ServerSocket.java:513)\r\n\tat org.apache.spark.api.python.PythonWorkerFactory.createSimpleWorker(PythonWorkerFactory.scala:174)\r\n\t... 19 more\r\n\nDriver stacktrace:\r\n\tat org.apache.spark.scheduler.DAGScheduler.failJobAndIndependentStages(DAGScheduler.scala:2258)\r\n\tat org.apache.spark.scheduler.DAGScheduler.$anonfun$abortStage$2(DAGScheduler.scala:2207)\r\n\tat org.apache.spark.scheduler.DAGScheduler.$anonfun$abortStage$2$adapted(DAGScheduler.scala:2206)\r\n\tat scala.collection.mutable.ResizableArray.foreach(ResizableArray.scala:62)\r\n\tat scala.collection.mutable.ResizableArray.foreach$(ResizableArray.scala:55)\r\n\tat scala.collection.mutable.ArrayBuffer.foreach(ArrayBuffer.scala:49)\r\n\tat org.apache.spark.scheduler.DAGScheduler.abortStage(DAGScheduler.scala:2206)\r\n\tat org.apache.spark.scheduler.DAGScheduler.$anonfun$handleTaskSetFailed$1(DAGScheduler.scala:1079)\r\n\tat org.apache.spark.scheduler.DAGScheduler.$anonfun$handleTaskSetFailed$1$adapted(DAGScheduler.scala:1079)\r\n\tat scala.Option.foreach(Option.scala:407)\r\n\tat org.apache.spark.scheduler.DAGScheduler.handleTaskSetFailed(DAGScheduler.scala:1079)\r\n\tat org.apache.spark.scheduler.DAGSchedulerEventProcessLoop.doOnReceive(DAGScheduler.scala:2445)\r\n\tat org.apache.spark.scheduler.DAGSchedulerEventProcessLoop.onReceive(DAGScheduler.scala:2387)\r\n\tat org.apache.spark.scheduler.DAGSchedulerEventProcessLoop.onReceive(DAGScheduler.scala:2376)\r\n\tat org.apache.spark.util.EventLoop$$anon$1.run(EventLoop.scala:49)\r\n\tat org.apache.spark.scheduler.DAGScheduler.runJob(DAGScheduler.scala:868)\r\n\tat org.apache.spark.SparkContext.runJob(SparkContext.scala:2196)\r\n\tat org.apache.spark.SparkContext.runJob(SparkContext.scala:2217)\r\n\tat org.apache.spark.SparkContext.runJob(SparkContext.scala:2236)\r\n\tat org.apache.spark.api.python.PythonRDD$.runJob(PythonRDD.scala:166)\r\n\tat org.apache.spark.api.python.PythonRDD.runJob(PythonRDD.scala)\r\n\tat sun.reflect.NativeMethodAccessorImpl.invoke0(Native Method)\r\n\tat sun.reflect.NativeMethodAccessorImpl.invoke(NativeMethodAccessorImpl.java:62)\r\n\tat sun.reflect.DelegatingMethodAccessorImpl.invoke(DelegatingMethodAccessorImpl.java:43)\r\n\tat java.lang.reflect.Method.invoke(Method.java:498)\r\n\tat py4j.reflection.MethodInvoker.invoke(MethodInvoker.java:244)\r\n\tat py4j.reflection.ReflectionEngine.invoke(ReflectionEngine.java:357)\r\n\tat py4j.Gateway.invoke(Gateway.java:282)\r\n\tat py4j.commands.AbstractCommand.invokeMethod(AbstractCommand.java:132)\r\n\tat py4j.commands.CallCommand.execute(CallCommand.java:79)\r\n\tat py4j.GatewayConnection.run(GatewayConnection.java:238)\r\n\tat java.lang.Thread.run(Thread.java:748)\r\nCaused by: org.apache.spark.SparkException: Python worker failed to connect back.\r\n\tat org.apache.spark.api.python.PythonWorkerFactory.createSimpleWorker(PythonWorkerFactory.scala:182)\r\n\tat org.apache.spark.api.python.PythonWorkerFactory.create(PythonWorkerFactory.scala:107)\r\n\tat org.apache.spark.SparkEnv.createPythonWorker(SparkEnv.scala:119)\r\n\tat org.apache.spark.api.python.BasePythonRunner.compute(PythonRunner.scala:145)\r\n\tat org.apache.spark.api.python.PythonRDD.compute(PythonRDD.scala:65)\r\n\tat org.apache.spark.rdd.RDD.computeOrReadCheckpoint(RDD.scala:373)\r\n\tat org.apache.spark.rdd.RDD.iterator(RDD.scala:337)\r\n\tat org.apache.spark.api.python.PairwiseRDD.compute(PythonRDD.scala:115)\r\n\tat org.apache.spark.rdd.RDD.computeOrReadCheckpoint(RDD.scala:373)\r\n\tat org.apache.spark.rdd.RDD.iterator(RDD.scala:337)\r\n\tat org.apache.spark.shuffle.ShuffleWriteProcessor.write(ShuffleWriteProcessor.scala:59)\r\n\tat org.apache.spark.scheduler.ShuffleMapTask.runTask(ShuffleMapTask.scala:99)\r\n\tat org.apache.spark.scheduler.ShuffleMapTask.runTask(ShuffleMapTask.scala:52)\r\n\tat org.apache.spark.scheduler.Task.run(Task.scala:131)\r\n\tat org.apache.spark.executor.Executor$TaskRunner.$anonfun$run$3(Executor.scala:497)\r\n\tat org.apache.spark.util.Utils$.tryWithSafeFinally(Utils.scala:1439)\r\n\tat org.apache.spark.executor.Executor$TaskRunner.run(Executor.scala:500)\r\n\tat java.util.concurrent.ThreadPoolExecutor.runWorker(ThreadPoolExecutor.java:1149)\r\n\tat java.util.concurrent.ThreadPoolExecutor$Worker.run(ThreadPoolExecutor.java:624)\r\n\t... 1 more\r\nCaused by: java.net.SocketTimeoutException: Accept timed out\r\n\tat java.net.DualStackPlainSocketImpl.waitForNewConnection(Native Method)\r\n\tat java.net.DualStackPlainSocketImpl.socketAccept(DualStackPlainSocketImpl.java:131)\r\n\tat java.net.AbstractPlainSocketImpl.accept(AbstractPlainSocketImpl.java:535)\r\n\tat java.net.PlainSocketImpl.accept(PlainSocketImpl.java:189)\r\n\tat java.net.ServerSocket.implAccept(ServerSocket.java:545)\r\n\tat java.net.ServerSocket.accept(ServerSocket.java:513)\r\n\tat org.apache.spark.api.python.PythonWorkerFactory.createSimpleWorker(PythonWorkerFactory.scala:174)\r\n\t... 19 more\r\n",
          "traceback": [
            "\u001b[1;31m---------------------------------------------------------------------------\u001b[0m",
            "\u001b[1;31mPy4JJavaError\u001b[0m                             Traceback (most recent call last)",
            "\u001b[1;32m~\\AppData\\Local\\Temp/ipykernel_1696/2089438647.py\u001b[0m in \u001b[0;36m<module>\u001b[1;34m\u001b[0m\n\u001b[0;32m      5\u001b[0m         \u001b[1;33m.\u001b[0m\u001b[0mfilter\u001b[0m\u001b[1;33m(\u001b[0m\u001b[1;32mlambda\u001b[0m \u001b[0ml\u001b[0m \u001b[1;33m:\u001b[0m \u001b[0ml\u001b[0m\u001b[1;33m[\u001b[0m\u001b[1;36m1\u001b[0m\u001b[1;33m]\u001b[0m\u001b[1;33m[\u001b[0m\u001b[1;36m1\u001b[0m\u001b[1;33m]\u001b[0m \u001b[1;33m==\u001b[0m \u001b[1;34m'van'\u001b[0m\u001b[1;33m)\u001b[0m\u001b[1;33m.\u001b[0m\u001b[0mmap\u001b[0m\u001b[1;33m(\u001b[0m\u001b[1;32mlambda\u001b[0m \u001b[0mt\u001b[0m\u001b[1;33m:\u001b[0m \u001b[1;33m(\u001b[0m\u001b[0mt\u001b[0m\u001b[1;33m[\u001b[0m\u001b[1;36m0\u001b[0m\u001b[1;33m]\u001b[0m\u001b[1;33m,\u001b[0m \u001b[0mt\u001b[0m\u001b[1;33m[\u001b[0m\u001b[1;36m1\u001b[0m\u001b[1;33m]\u001b[0m\u001b[1;33m[\u001b[0m\u001b[1;36m0\u001b[0m\u001b[1;33m]\u001b[0m\u001b[1;33m)\u001b[0m\u001b[1;33m)\u001b[0m\u001b[1;33m\u001b[0m\u001b[1;33m\u001b[0m\u001b[0m\n\u001b[0;32m      6\u001b[0m \u001b[1;33m\u001b[0m\u001b[0m\n\u001b[1;32m----> 7\u001b[1;33m \u001b[0mprint\u001b[0m\u001b[1;33m(\u001b[0m\u001b[0maggregated_rdd\u001b[0m\u001b[1;33m.\u001b[0m\u001b[0mtake\u001b[0m\u001b[1;33m(\u001b[0m\u001b[1;36m5\u001b[0m\u001b[1;33m)\u001b[0m\u001b[1;33m)\u001b[0m\u001b[1;33m\u001b[0m\u001b[1;33m\u001b[0m\u001b[0m\n\u001b[0m\u001b[0;32m      8\u001b[0m \u001b[1;31m# print(mmap.collect())\u001b[0m\u001b[1;33m\u001b[0m\u001b[1;33m\u001b[0m\u001b[0m\n\u001b[0;32m      9\u001b[0m \u001b[1;33m\u001b[0m\u001b[0m\n",
            "\u001b[1;32m~\\anaconda3\\envs\\tf\\lib\\site-packages\\pyspark\\rdd.py\u001b[0m in \u001b[0;36mtake\u001b[1;34m(self, num)\u001b[0m\n\u001b[0;32m   1564\u001b[0m \u001b[1;33m\u001b[0m\u001b[0m\n\u001b[0;32m   1565\u001b[0m             \u001b[0mp\u001b[0m \u001b[1;33m=\u001b[0m \u001b[0mrange\u001b[0m\u001b[1;33m(\u001b[0m\u001b[0mpartsScanned\u001b[0m\u001b[1;33m,\u001b[0m \u001b[0mmin\u001b[0m\u001b[1;33m(\u001b[0m\u001b[0mpartsScanned\u001b[0m \u001b[1;33m+\u001b[0m \u001b[0mnumPartsToTry\u001b[0m\u001b[1;33m,\u001b[0m \u001b[0mtotalParts\u001b[0m\u001b[1;33m)\u001b[0m\u001b[1;33m)\u001b[0m\u001b[1;33m\u001b[0m\u001b[1;33m\u001b[0m\u001b[0m\n\u001b[1;32m-> 1566\u001b[1;33m             \u001b[0mres\u001b[0m \u001b[1;33m=\u001b[0m \u001b[0mself\u001b[0m\u001b[1;33m.\u001b[0m\u001b[0mcontext\u001b[0m\u001b[1;33m.\u001b[0m\u001b[0mrunJob\u001b[0m\u001b[1;33m(\u001b[0m\u001b[0mself\u001b[0m\u001b[1;33m,\u001b[0m \u001b[0mtakeUpToNumLeft\u001b[0m\u001b[1;33m,\u001b[0m \u001b[0mp\u001b[0m\u001b[1;33m)\u001b[0m\u001b[1;33m\u001b[0m\u001b[1;33m\u001b[0m\u001b[0m\n\u001b[0m\u001b[0;32m   1567\u001b[0m \u001b[1;33m\u001b[0m\u001b[0m\n\u001b[0;32m   1568\u001b[0m             \u001b[0mitems\u001b[0m \u001b[1;33m+=\u001b[0m \u001b[0mres\u001b[0m\u001b[1;33m\u001b[0m\u001b[1;33m\u001b[0m\u001b[0m\n",
            "\u001b[1;32m~\\anaconda3\\envs\\tf\\lib\\site-packages\\pyspark\\context.py\u001b[0m in \u001b[0;36mrunJob\u001b[1;34m(self, rdd, partitionFunc, partitions, allowLocal)\u001b[0m\n\u001b[0;32m   1231\u001b[0m         \u001b[1;31m# SparkContext#runJob.\u001b[0m\u001b[1;33m\u001b[0m\u001b[1;33m\u001b[0m\u001b[0m\n\u001b[0;32m   1232\u001b[0m         \u001b[0mmappedRDD\u001b[0m \u001b[1;33m=\u001b[0m \u001b[0mrdd\u001b[0m\u001b[1;33m.\u001b[0m\u001b[0mmapPartitions\u001b[0m\u001b[1;33m(\u001b[0m\u001b[0mpartitionFunc\u001b[0m\u001b[1;33m)\u001b[0m\u001b[1;33m\u001b[0m\u001b[1;33m\u001b[0m\u001b[0m\n\u001b[1;32m-> 1233\u001b[1;33m         \u001b[0msock_info\u001b[0m \u001b[1;33m=\u001b[0m \u001b[0mself\u001b[0m\u001b[1;33m.\u001b[0m\u001b[0m_jvm\u001b[0m\u001b[1;33m.\u001b[0m\u001b[0mPythonRDD\u001b[0m\u001b[1;33m.\u001b[0m\u001b[0mrunJob\u001b[0m\u001b[1;33m(\u001b[0m\u001b[0mself\u001b[0m\u001b[1;33m.\u001b[0m\u001b[0m_jsc\u001b[0m\u001b[1;33m.\u001b[0m\u001b[0msc\u001b[0m\u001b[1;33m(\u001b[0m\u001b[1;33m)\u001b[0m\u001b[1;33m,\u001b[0m \u001b[0mmappedRDD\u001b[0m\u001b[1;33m.\u001b[0m\u001b[0m_jrdd\u001b[0m\u001b[1;33m,\u001b[0m \u001b[0mpartitions\u001b[0m\u001b[1;33m)\u001b[0m\u001b[1;33m\u001b[0m\u001b[1;33m\u001b[0m\u001b[0m\n\u001b[0m\u001b[0;32m   1234\u001b[0m         \u001b[1;32mreturn\u001b[0m \u001b[0mlist\u001b[0m\u001b[1;33m(\u001b[0m\u001b[0m_load_from_socket\u001b[0m\u001b[1;33m(\u001b[0m\u001b[0msock_info\u001b[0m\u001b[1;33m,\u001b[0m \u001b[0mmappedRDD\u001b[0m\u001b[1;33m.\u001b[0m\u001b[0m_jrdd_deserializer\u001b[0m\u001b[1;33m)\u001b[0m\u001b[1;33m)\u001b[0m\u001b[1;33m\u001b[0m\u001b[1;33m\u001b[0m\u001b[0m\n\u001b[0;32m   1235\u001b[0m \u001b[1;33m\u001b[0m\u001b[0m\n",
            "\u001b[1;32m~\\anaconda3\\envs\\tf\\lib\\site-packages\\py4j\\java_gateway.py\u001b[0m in \u001b[0;36m__call__\u001b[1;34m(self, *args)\u001b[0m\n\u001b[0;32m   1307\u001b[0m \u001b[1;33m\u001b[0m\u001b[0m\n\u001b[0;32m   1308\u001b[0m         \u001b[0manswer\u001b[0m \u001b[1;33m=\u001b[0m \u001b[0mself\u001b[0m\u001b[1;33m.\u001b[0m\u001b[0mgateway_client\u001b[0m\u001b[1;33m.\u001b[0m\u001b[0msend_command\u001b[0m\u001b[1;33m(\u001b[0m\u001b[0mcommand\u001b[0m\u001b[1;33m)\u001b[0m\u001b[1;33m\u001b[0m\u001b[1;33m\u001b[0m\u001b[0m\n\u001b[1;32m-> 1309\u001b[1;33m         return_value = get_return_value(\n\u001b[0m\u001b[0;32m   1310\u001b[0m             answer, self.gateway_client, self.target_id, self.name)\n\u001b[0;32m   1311\u001b[0m \u001b[1;33m\u001b[0m\u001b[0m\n",
            "\u001b[1;32m~\\anaconda3\\envs\\tf\\lib\\site-packages\\pyspark\\sql\\utils.py\u001b[0m in \u001b[0;36mdeco\u001b[1;34m(*a, **kw)\u001b[0m\n\u001b[0;32m    109\u001b[0m     \u001b[1;32mdef\u001b[0m \u001b[0mdeco\u001b[0m\u001b[1;33m(\u001b[0m\u001b[1;33m*\u001b[0m\u001b[0ma\u001b[0m\u001b[1;33m,\u001b[0m \u001b[1;33m**\u001b[0m\u001b[0mkw\u001b[0m\u001b[1;33m)\u001b[0m\u001b[1;33m:\u001b[0m\u001b[1;33m\u001b[0m\u001b[1;33m\u001b[0m\u001b[0m\n\u001b[0;32m    110\u001b[0m         \u001b[1;32mtry\u001b[0m\u001b[1;33m:\u001b[0m\u001b[1;33m\u001b[0m\u001b[1;33m\u001b[0m\u001b[0m\n\u001b[1;32m--> 111\u001b[1;33m             \u001b[1;32mreturn\u001b[0m \u001b[0mf\u001b[0m\u001b[1;33m(\u001b[0m\u001b[1;33m*\u001b[0m\u001b[0ma\u001b[0m\u001b[1;33m,\u001b[0m \u001b[1;33m**\u001b[0m\u001b[0mkw\u001b[0m\u001b[1;33m)\u001b[0m\u001b[1;33m\u001b[0m\u001b[1;33m\u001b[0m\u001b[0m\n\u001b[0m\u001b[0;32m    112\u001b[0m         \u001b[1;32mexcept\u001b[0m \u001b[0mpy4j\u001b[0m\u001b[1;33m.\u001b[0m\u001b[0mprotocol\u001b[0m\u001b[1;33m.\u001b[0m\u001b[0mPy4JJavaError\u001b[0m \u001b[1;32mas\u001b[0m \u001b[0me\u001b[0m\u001b[1;33m:\u001b[0m\u001b[1;33m\u001b[0m\u001b[1;33m\u001b[0m\u001b[0m\n\u001b[0;32m    113\u001b[0m             \u001b[0mconverted\u001b[0m \u001b[1;33m=\u001b[0m \u001b[0mconvert_exception\u001b[0m\u001b[1;33m(\u001b[0m\u001b[0me\u001b[0m\u001b[1;33m.\u001b[0m\u001b[0mjava_exception\u001b[0m\u001b[1;33m)\u001b[0m\u001b[1;33m\u001b[0m\u001b[1;33m\u001b[0m\u001b[0m\n",
            "\u001b[1;32m~\\anaconda3\\envs\\tf\\lib\\site-packages\\py4j\\protocol.py\u001b[0m in \u001b[0;36mget_return_value\u001b[1;34m(answer, gateway_client, target_id, name)\u001b[0m\n\u001b[0;32m    324\u001b[0m             \u001b[0mvalue\u001b[0m \u001b[1;33m=\u001b[0m \u001b[0mOUTPUT_CONVERTER\u001b[0m\u001b[1;33m[\u001b[0m\u001b[0mtype\u001b[0m\u001b[1;33m]\u001b[0m\u001b[1;33m(\u001b[0m\u001b[0manswer\u001b[0m\u001b[1;33m[\u001b[0m\u001b[1;36m2\u001b[0m\u001b[1;33m:\u001b[0m\u001b[1;33m]\u001b[0m\u001b[1;33m,\u001b[0m \u001b[0mgateway_client\u001b[0m\u001b[1;33m)\u001b[0m\u001b[1;33m\u001b[0m\u001b[1;33m\u001b[0m\u001b[0m\n\u001b[0;32m    325\u001b[0m             \u001b[1;32mif\u001b[0m \u001b[0manswer\u001b[0m\u001b[1;33m[\u001b[0m\u001b[1;36m1\u001b[0m\u001b[1;33m]\u001b[0m \u001b[1;33m==\u001b[0m \u001b[0mREFERENCE_TYPE\u001b[0m\u001b[1;33m:\u001b[0m\u001b[1;33m\u001b[0m\u001b[1;33m\u001b[0m\u001b[0m\n\u001b[1;32m--> 326\u001b[1;33m                 raise Py4JJavaError(\n\u001b[0m\u001b[0;32m    327\u001b[0m                     \u001b[1;34m\"An error occurred while calling {0}{1}{2}.\\n\"\u001b[0m\u001b[1;33m.\u001b[0m\u001b[1;33m\u001b[0m\u001b[1;33m\u001b[0m\u001b[0m\n\u001b[0;32m    328\u001b[0m                     format(target_id, \".\", name), value)\n",
            "\u001b[1;31mPy4JJavaError\u001b[0m: An error occurred while calling z:org.apache.spark.api.python.PythonRDD.runJob.\n: org.apache.spark.SparkException: Job aborted due to stage failure: Task 1 in stage 2.0 failed 1 times, most recent failure: Lost task 1.0 in stage 2.0 (TID 8) (192.168.1.123 executor driver): org.apache.spark.SparkException: Python worker failed to connect back.\r\n\tat org.apache.spark.api.python.PythonWorkerFactory.createSimpleWorker(PythonWorkerFactory.scala:182)\r\n\tat org.apache.spark.api.python.PythonWorkerFactory.create(PythonWorkerFactory.scala:107)\r\n\tat org.apache.spark.SparkEnv.createPythonWorker(SparkEnv.scala:119)\r\n\tat org.apache.spark.api.python.BasePythonRunner.compute(PythonRunner.scala:145)\r\n\tat org.apache.spark.api.python.PythonRDD.compute(PythonRDD.scala:65)\r\n\tat org.apache.spark.rdd.RDD.computeOrReadCheckpoint(RDD.scala:373)\r\n\tat org.apache.spark.rdd.RDD.iterator(RDD.scala:337)\r\n\tat org.apache.spark.api.python.PairwiseRDD.compute(PythonRDD.scala:115)\r\n\tat org.apache.spark.rdd.RDD.computeOrReadCheckpoint(RDD.scala:373)\r\n\tat org.apache.spark.rdd.RDD.iterator(RDD.scala:337)\r\n\tat org.apache.spark.shuffle.ShuffleWriteProcessor.write(ShuffleWriteProcessor.scala:59)\r\n\tat org.apache.spark.scheduler.ShuffleMapTask.runTask(ShuffleMapTask.scala:99)\r\n\tat org.apache.spark.scheduler.ShuffleMapTask.runTask(ShuffleMapTask.scala:52)\r\n\tat org.apache.spark.scheduler.Task.run(Task.scala:131)\r\n\tat org.apache.spark.executor.Executor$TaskRunner.$anonfun$run$3(Executor.scala:497)\r\n\tat org.apache.spark.util.Utils$.tryWithSafeFinally(Utils.scala:1439)\r\n\tat org.apache.spark.executor.Executor$TaskRunner.run(Executor.scala:500)\r\n\tat java.util.concurrent.ThreadPoolExecutor.runWorker(ThreadPoolExecutor.java:1149)\r\n\tat java.util.concurrent.ThreadPoolExecutor$Worker.run(ThreadPoolExecutor.java:624)\r\n\tat java.lang.Thread.run(Thread.java:748)\r\nCaused by: java.net.SocketTimeoutException: Accept timed out\r\n\tat java.net.DualStackPlainSocketImpl.waitForNewConnection(Native Method)\r\n\tat java.net.DualStackPlainSocketImpl.socketAccept(DualStackPlainSocketImpl.java:131)\r\n\tat java.net.AbstractPlainSocketImpl.accept(AbstractPlainSocketImpl.java:535)\r\n\tat java.net.PlainSocketImpl.accept(PlainSocketImpl.java:189)\r\n\tat java.net.ServerSocket.implAccept(ServerSocket.java:545)\r\n\tat java.net.ServerSocket.accept(ServerSocket.java:513)\r\n\tat org.apache.spark.api.python.PythonWorkerFactory.createSimpleWorker(PythonWorkerFactory.scala:174)\r\n\t... 19 more\r\n\nDriver stacktrace:\r\n\tat org.apache.spark.scheduler.DAGScheduler.failJobAndIndependentStages(DAGScheduler.scala:2258)\r\n\tat org.apache.spark.scheduler.DAGScheduler.$anonfun$abortStage$2(DAGScheduler.scala:2207)\r\n\tat org.apache.spark.scheduler.DAGScheduler.$anonfun$abortStage$2$adapted(DAGScheduler.scala:2206)\r\n\tat scala.collection.mutable.ResizableArray.foreach(ResizableArray.scala:62)\r\n\tat scala.collection.mutable.ResizableArray.foreach$(ResizableArray.scala:55)\r\n\tat scala.collection.mutable.ArrayBuffer.foreach(ArrayBuffer.scala:49)\r\n\tat org.apache.spark.scheduler.DAGScheduler.abortStage(DAGScheduler.scala:2206)\r\n\tat org.apache.spark.scheduler.DAGScheduler.$anonfun$handleTaskSetFailed$1(DAGScheduler.scala:1079)\r\n\tat org.apache.spark.scheduler.DAGScheduler.$anonfun$handleTaskSetFailed$1$adapted(DAGScheduler.scala:1079)\r\n\tat scala.Option.foreach(Option.scala:407)\r\n\tat org.apache.spark.scheduler.DAGScheduler.handleTaskSetFailed(DAGScheduler.scala:1079)\r\n\tat org.apache.spark.scheduler.DAGSchedulerEventProcessLoop.doOnReceive(DAGScheduler.scala:2445)\r\n\tat org.apache.spark.scheduler.DAGSchedulerEventProcessLoop.onReceive(DAGScheduler.scala:2387)\r\n\tat org.apache.spark.scheduler.DAGSchedulerEventProcessLoop.onReceive(DAGScheduler.scala:2376)\r\n\tat org.apache.spark.util.EventLoop$$anon$1.run(EventLoop.scala:49)\r\n\tat org.apache.spark.scheduler.DAGScheduler.runJob(DAGScheduler.scala:868)\r\n\tat org.apache.spark.SparkContext.runJob(SparkContext.scala:2196)\r\n\tat org.apache.spark.SparkContext.runJob(SparkContext.scala:2217)\r\n\tat org.apache.spark.SparkContext.runJob(SparkContext.scala:2236)\r\n\tat org.apache.spark.api.python.PythonRDD$.runJob(PythonRDD.scala:166)\r\n\tat org.apache.spark.api.python.PythonRDD.runJob(PythonRDD.scala)\r\n\tat sun.reflect.NativeMethodAccessorImpl.invoke0(Native Method)\r\n\tat sun.reflect.NativeMethodAccessorImpl.invoke(NativeMethodAccessorImpl.java:62)\r\n\tat sun.reflect.DelegatingMethodAccessorImpl.invoke(DelegatingMethodAccessorImpl.java:43)\r\n\tat java.lang.reflect.Method.invoke(Method.java:498)\r\n\tat py4j.reflection.MethodInvoker.invoke(MethodInvoker.java:244)\r\n\tat py4j.reflection.ReflectionEngine.invoke(ReflectionEngine.java:357)\r\n\tat py4j.Gateway.invoke(Gateway.java:282)\r\n\tat py4j.commands.AbstractCommand.invokeMethod(AbstractCommand.java:132)\r\n\tat py4j.commands.CallCommand.execute(CallCommand.java:79)\r\n\tat py4j.GatewayConnection.run(GatewayConnection.java:238)\r\n\tat java.lang.Thread.run(Thread.java:748)\r\nCaused by: org.apache.spark.SparkException: Python worker failed to connect back.\r\n\tat org.apache.spark.api.python.PythonWorkerFactory.createSimpleWorker(PythonWorkerFactory.scala:182)\r\n\tat org.apache.spark.api.python.PythonWorkerFactory.create(PythonWorkerFactory.scala:107)\r\n\tat org.apache.spark.SparkEnv.createPythonWorker(SparkEnv.scala:119)\r\n\tat org.apache.spark.api.python.BasePythonRunner.compute(PythonRunner.scala:145)\r\n\tat org.apache.spark.api.python.PythonRDD.compute(PythonRDD.scala:65)\r\n\tat org.apache.spark.rdd.RDD.computeOrReadCheckpoint(RDD.scala:373)\r\n\tat org.apache.spark.rdd.RDD.iterator(RDD.scala:337)\r\n\tat org.apache.spark.api.python.PairwiseRDD.compute(PythonRDD.scala:115)\r\n\tat org.apache.spark.rdd.RDD.computeOrReadCheckpoint(RDD.scala:373)\r\n\tat org.apache.spark.rdd.RDD.iterator(RDD.scala:337)\r\n\tat org.apache.spark.shuffle.ShuffleWriteProcessor.write(ShuffleWriteProcessor.scala:59)\r\n\tat org.apache.spark.scheduler.ShuffleMapTask.runTask(ShuffleMapTask.scala:99)\r\n\tat org.apache.spark.scheduler.ShuffleMapTask.runTask(ShuffleMapTask.scala:52)\r\n\tat org.apache.spark.scheduler.Task.run(Task.scala:131)\r\n\tat org.apache.spark.executor.Executor$TaskRunner.$anonfun$run$3(Executor.scala:497)\r\n\tat org.apache.spark.util.Utils$.tryWithSafeFinally(Utils.scala:1439)\r\n\tat org.apache.spark.executor.Executor$TaskRunner.run(Executor.scala:500)\r\n\tat java.util.concurrent.ThreadPoolExecutor.runWorker(ThreadPoolExecutor.java:1149)\r\n\tat java.util.concurrent.ThreadPoolExecutor$Worker.run(ThreadPoolExecutor.java:624)\r\n\t... 1 more\r\nCaused by: java.net.SocketTimeoutException: Accept timed out\r\n\tat java.net.DualStackPlainSocketImpl.waitForNewConnection(Native Method)\r\n\tat java.net.DualStackPlainSocketImpl.socketAccept(DualStackPlainSocketImpl.java:131)\r\n\tat java.net.AbstractPlainSocketImpl.accept(AbstractPlainSocketImpl.java:535)\r\n\tat java.net.PlainSocketImpl.accept(PlainSocketImpl.java:189)\r\n\tat java.net.ServerSocket.implAccept(ServerSocket.java:545)\r\n\tat java.net.ServerSocket.accept(ServerSocket.java:513)\r\n\tat org.apache.spark.api.python.PythonWorkerFactory.createSimpleWorker(PythonWorkerFactory.scala:174)\r\n\t... 19 more\r\n"
          ]
        }
      ],
      "metadata": {}
    },
    {
      "cell_type": "code",
      "execution_count": null,
      "source": [
        "from pyspark.sql.functions import col, udf\r\n",
        "from pyspark.sql.types import StringType\r\n",
        "\r\n",
        "routes = spark.read.option(\"header\",True).csv(\"RouteSummary.txt\", inferSchema=True)\r\n",
        "routes.printSchema()\r\n",
        "routes = routes.drop(\"M\", \"BendrasAtstumas\",\"BendrasLaikas\",\"BendrasSvoris\")\r\n",
        "\r\n",
        "def makeID(str1, str2):\r\n",
        "    return str(str1)+\"_\"+str2\r\n",
        "\r\n",
        "makeID_UDF = udf(lambda z1,z2: makeID(z1,z2),StringType())\r\n",
        "routes2 = routes.withColumn('ID', makeID_UDF(\"marsrutas\", \"sustojimo data\")).drop(\"marsrutas\", \"sustojimo data\")\r\n"
      ],
      "outputs": [
        {
          "output_type": "stream",
          "name": "stdout",
          "text": [
            "root\n",
            " |-- marsrutas: integer (nullable = true)\n",
            " |-- sustojimo data: string (nullable = true)\n",
            " |-- M: integer (nullable = true)\n",
            " |-- BendrasAtstumas: double (nullable = true)\n",
            " |-- BendrasSvoris: string (nullable = true)\n",
            " |-- BendrasLaikas: string (nullable = true)\n",
            " |-- BendraKaina: double (nullable = true)\n",
            "\n"
          ]
        }
      ],
      "metadata": {
        "colab": {
          "base_uri": "https://localhost:8080/"
        },
        "id": "MS62HtzyhPxK",
        "outputId": "b3d8b573-6af2-4e41-afdc-406e3ca1d27f"
      }
    },
    {
      "cell_type": "code",
      "execution_count": null,
      "source": [
        "##training data formato: (\"prognozuojama reiskme\", \"parametras\")\r\n",
        "# print(rmap.take(3))\r\n",
        "routes = aggregated_rdd.toDF([\"ID\", \"svoris\"])\r\n",
        "routes.show()\r\n",
        "routes2 = routes2.withColumn(\"BendraKaina\",routes2.BendraKaina.cast('float'))\r\n",
        "training = routes.join(routes2, 'ID', \"outer\")\r\n",
        "training = training.na.drop(\"any\")\r\n",
        "# training = training.drop(\"ID\")\r\n",
        "# training.show()\r\n",
        "print(training)"
      ],
      "outputs": [
        {
          "output_type": "stream",
          "name": "stdout",
          "text": [
            "+--------------+------------------+\n",
            "|            ID|            svoris|\n",
            "+--------------+------------------+\n",
            "|102_2018-01-08|            561.05|\n",
            "|102_2018-01-10|             868.3|\n",
            "|102_2018-01-11|            1061.8|\n",
            "|102_2018-01-15|1031.8000000000002|\n",
            "|102_2018-01-16|1210.5499999999997|\n",
            "|102_2018-01-17|1288.7000000000003|\n",
            "|102_2018-01-25|             829.5|\n",
            "|102_2018-01-26| 725.1999999999999|\n",
            "|102_2018-01-29|            170.85|\n",
            "|102_2018-01-30|1012.3000000000001|\n",
            "|103_2018-01-16|             706.0|\n",
            "|103_2018-01-17|1045.4499999999998|\n",
            "|103_2018-01-24|             924.0|\n",
            "|103_2018-01-31|             518.3|\n",
            "|104_2018-01-02|            681.86|\n",
            "|104_2018-01-03|             118.9|\n",
            "|102_2018-01-02|             402.8|\n",
            "|102_2018-01-03|            1363.7|\n",
            "|102_2018-01-04| 798.8500000000001|\n",
            "|102_2018-01-05|            574.95|\n",
            "+--------------+------------------+\n",
            "only showing top 20 rows\n",
            "\n",
            "DataFrame[ID: string, svoris: double, BendraKaina: float]\n"
          ]
        }
      ],
      "metadata": {
        "colab": {
          "base_uri": "https://localhost:8080/"
        },
        "id": "53p1zBI3nU_P",
        "outputId": "1aae3e76-7537-4b2b-8f2b-0d189b84a517"
      }
    },
    {
      "cell_type": "code",
      "execution_count": null,
      "source": [
        "\r\n",
        "from pyspark.ml.feature import VectorAssembler\r\n",
        "\r\n",
        "vectorAssembler = VectorAssembler(inputCols = ['svoris'], outputCol = 'features')\r\n",
        "vhouse_df = vectorAssembler.transform(training)\r\n",
        "vhouse_df = vhouse_df.select(['features', 'BendraKaina'])\r\n",
        "vhouse_df.show(3)\r\n",
        "\r\n",
        "\r\n",
        "# splits = vhouse_df.randomSplit([0.7, 0.3])\r\n",
        "# train_df = splits[0]\r\n",
        "# test_df = splits[1]"
      ],
      "outputs": [
        {
          "output_type": "stream",
          "name": "stdout",
          "text": [
            "+-------------------+-----------+\n",
            "|           features|BendraKaina|\n",
            "+-------------------+-----------+\n",
            "|            [402.8]|      19.55|\n",
            "|           [1363.7]|      29.09|\n",
            "|[798.8500000000001]|      26.47|\n",
            "+-------------------+-----------+\n",
            "only showing top 3 rows\n",
            "\n"
          ]
        }
      ],
      "metadata": {
        "id": "k5ryczNjhPr5",
        "colab": {
          "base_uri": "https://localhost:8080/"
        },
        "outputId": "fb4fda7a-2d64-47b3-c481-6f299108ffad"
      }
    },
    {
      "cell_type": "code",
      "execution_count": null,
      "source": [
        "#regression ...\r\n",
        "\r\n",
        "from pyspark.ml.regression import LinearRegression\r\n",
        "\r\n",
        "# Load training data\r\n",
        "#training = spark.read.format(\"libsvm\")\\\r\n",
        "#    .load(\"sample_linear_regression_data.txt\")\r\n",
        "\r\n",
        "\r\n",
        "lr = LinearRegression(maxIter=10, regParam=0.3, elasticNetParam=0.8, featuresCol = \"features\", labelCol = \"BendraKaina\")\r\n",
        "\r\n",
        "# Fit the model\r\n",
        "lrModel = lr.fit(vhouse_df)\r\n",
        "\r\n",
        "# Print the coefficients and intercept for linear regression\r\n",
        "print(\"Coefficients: %s\" % str(lrModel.coefficients))\r\n",
        "print(\"Intercept: %s\" % str(lrModel.intercept))\r\n",
        "\r\n",
        "a=lrModel.intercept\r\n",
        "b=lrModel.coefficients[0]\r\n",
        "print(f'a={a} + b={b}')\r\n",
        "\r\n",
        "# Summarize the model over the training set and print out some metrics\r\n",
        "trainingSummary = lrModel.summary\r\n",
        "print(\"numIterations: %d\" % trainingSummary.totalIterations)\r\n",
        "print(\"objectiveHistory: %s\" % str(trainingSummary.objectiveHistory))\r\n",
        "trainingSummary.residuals.show()\r\n",
        "print(\"RMSE: %f\" % trainingSummary.rootMeanSquaredError)\r\n",
        "print(\"r2: %f\" % trainingSummary.r2)\r\n",
        "\r\n",
        "\r\n",
        "\r\n",
        "\r\n"
      ],
      "outputs": [
        {
          "output_type": "stream",
          "name": "stdout",
          "text": [
            "Coefficients: [0.008674421881573486]\n",
            "Intercept: 29.296688155115955\n",
            "a=29.296688155115955 + b=0.008674421881573486\n",
            "numIterations: 2\n",
            "objectiveHistory: [0.5, 0.48865371036475486, 0.46433986835555974]\n"
          ]
        },
        {
          "output_type": "stream",
          "name": "stderr",
          "text": [
            "/usr/local/lib/python3.7/dist-packages/pyspark/sql/context.py:127: FutureWarning: Deprecated in 3.0.0. Use SparkSession.builder.getOrCreate() instead.\n",
            "  FutureWarning\n"
          ]
        },
        {
          "output_type": "stream",
          "name": "stdout",
          "text": [
            "+--------------------+\n",
            "|           residuals|\n",
            "+--------------------+\n",
            "|  -13.24074605195321|\n",
            "| -12.035997122429826|\n",
            "|  -9.756250761856442|\n",
            "| -11.734047778866085|\n",
            "|  -3.673472780654592|\n",
            "| -19.105054525032443|\n",
            "|-0.31869035335300566|\n",
            "|  -4.187189614146462|\n",
            "| -1.7678236045143976|\n",
            "|  25.893042737124958|\n",
            "|  -5.207509411266848|\n",
            "| -1.5654157864875984|\n",
            "| 0.42500703111315374|\n",
            "|-0.01868594353033...|\n",
            "|  2.2644102731274103|\n",
            "|  -2.107860942272083|\n",
            "| -2.5058746853573197|\n",
            "| -14.482120876999325|\n",
            "| -12.137378140693592|\n",
            "|  -7.448713209876729|\n",
            "+--------------------+\n",
            "only showing top 20 rows\n",
            "\n",
            "RMSE: 11.138919\n",
            "r2: 0.082680\n",
            "root\n",
            " |-- features: vector (nullable = true)\n",
            " |-- BendraKaina: float (nullable = true)\n",
            "\n",
            "[19.549999237060547, 29.09000015258789, 26.469999313354492, 22.549999237060547, 30.489999771118164, 24.360000610351562, 36.5099983215332, 34.31999969482422, 30.440000534057617, 64.13999938964844, 34.59000015258789, 38.90999984741211, 37.52000045776367, 38.40999984741211, 41.06999969482422, 30.440000534057617, 37.959999084472656, 22.010000228881836, 23.450000762939453, 23.329999923706055, 36.790000915527344, 54.59000015258789, 44.290000915527344, 64.16000366210938, 37.40999984741211, 37.20000076293945, 53.18000030517578, 50.650001525878906, 32.939998626708984, 52.58000183105469, 23.469999313354492, 35.81999969482422]\n",
            "[DenseVector([402.8]), DenseVector([1363.7]), DenseVector([798.85]), DenseVector([574.95]), DenseVector([561.05]), DenseVector([1633.35]), DenseVector([868.3]), DenseVector([1061.8]), DenseVector([335.6]), DenseVector([1031.8]), DenseVector([1210.55]), DenseVector([1288.7]), DenseVector([899.0]), DenseVector([1052.75]), DenseVector([1096.2]), DenseVector([374.8]), DenseVector([1287.6]), DenseVector([829.5]), DenseVector([725.2]), DenseVector([170.85]), DenseVector([1012.3]), DenseVector([1240.2]), DenseVector([706.0]), DenseVector([1045.45]), DenseVector([642.9]), DenseVector([497.15]), DenseVector([1077.5]), DenseVector([924.0]), DenseVector([620.7]), DenseVector([518.3]), DenseVector([681.86]), DenseVector([118.9])]\n"
          ]
        },
        {
          "output_type": "display_data",
          "data": {
            "text/plain": [
              "<Figure size 1440x360 with 3 Axes>"
            ],
            "image/png": "[encoded data removed]"
          },
          "metadata": {
            "needs_background": "light"
          }
        }
      ],
      "metadata": {
        "colab": {
          "base_uri": "https://localhost:8080/",
          "height": 1000
        },
        "id": "isjj_0CAxjuq",
        "outputId": "c9651070-bbf9-4301-8c72-205843b1e500"
      }
    },
    {
      "cell_type": "code",
      "execution_count": null,
      "source": [
        "pandasDF = training.toPandas()\n",
        "pandasDF.head()"
      ],
      "outputs": [
        {
          "output_type": "execute_result",
          "data": {
            "text/plain": [
              "               ID   svoris  BendraKaina\n",
              "0  102_2018-01-02   402.80    19.549999\n",
              "1  102_2018-01-03  1363.70    29.090000\n",
              "2  102_2018-01-04   798.85    26.469999\n",
              "3  102_2018-01-05   574.95    22.549999\n",
              "4  102_2018-01-08   561.05    30.490000"
            ],
            "text/html": [
              "\n",
              "  <div id=\"df-c8c692ee-942f-4403-a0c0-e921281127dd\">\n",
              "    <div class=\"colab-df-container\">\n",
              "      <div>\n",
              "<style scoped>\n",
              "    .dataframe tbody tr th:only-of-type {\n",
              "        vertical-align: middle;\n",
              "    }\n",
              "\n",
              "    .dataframe tbody tr th {\n",
              "        vertical-align: top;\n",
              "    }\n",
              "\n",
              "    .dataframe thead th {\n",
              "        text-align: right;\n",
              "    }\n",
              "</style>\n",
              "<table border=\"1\" class=\"dataframe\">\n",
              "  <thead>\n",
              "    <tr style=\"text-align: right;\">\n",
              "      <th></th>\n",
              "      <th>ID</th>\n",
              "      <th>svoris</th>\n",
              "      <th>BendraKaina</th>\n",
              "    </tr>\n",
              "  </thead>\n",
              "  <tbody>\n",
              "    <tr>\n",
              "      <th>0</th>\n",
              "      <td>102_2018-01-02</td>\n",
              "      <td>402.80</td>\n",
              "      <td>19.549999</td>\n",
              "    </tr>\n",
              "    <tr>\n",
              "      <th>1</th>\n",
              "      <td>102_2018-01-03</td>\n",
              "      <td>1363.70</td>\n",
              "      <td>29.090000</td>\n",
              "    </tr>\n",
              "    <tr>\n",
              "      <th>2</th>\n",
              "      <td>102_2018-01-04</td>\n",
              "      <td>798.85</td>\n",
              "      <td>26.469999</td>\n",
              "    </tr>\n",
              "    <tr>\n",
              "      <th>3</th>\n",
              "      <td>102_2018-01-05</td>\n",
              "      <td>574.95</td>\n",
              "      <td>22.549999</td>\n",
              "    </tr>\n",
              "    <tr>\n",
              "      <th>4</th>\n",
              "      <td>102_2018-01-08</td>\n",
              "      <td>561.05</td>\n",
              "      <td>30.490000</td>\n",
              "    </tr>\n",
              "  </tbody>\n",
              "</table>\n",
              "</div>\n",
              "      <button class=\"colab-df-convert\" onclick=\"convertToInteractive('df-c8c692ee-942f-4403-a0c0-e921281127dd')\"\n",
              "              title=\"Convert this dataframe to an interactive table.\"\n",
              "              style=\"display:none;\">\n",
              "        \n",
              "  <svg xmlns=\"http://www.w3.org/2000/svg\" height=\"24px\"viewBox=\"0 0 24 24\"\n",
              "       width=\"24px\">\n",
              "    <path d=\"M0 0h24v24H0V0z\" fill=\"none\"/>\n",
              "    <path d=\"M18.56 5.44l.94 2.06.94-2.06 2.06-.94-2.06-.94-.94-2.06-.94 2.06-2.06.94zm-11 1L8.5 8.5l.94-2.06 2.06-.94-2.06-.94L8.5 2.5l-.94 2.06-2.06.94zm10 10l.94 2.06.94-2.06 2.06-.94-2.06-.94-.94-2.06-.94 2.06-2.06.94z\"/><path d=\"M17.41 7.96l-1.37-1.37c-.4-.4-.92-.59-1.43-.59-.52 0-1.04.2-1.43.59L10.3 9.45l-7.72 7.72c-.78.78-.78 2.05 0 2.83L4 21.41c.39.39.9.59 1.41.59.51 0 1.02-.2 1.41-.59l7.78-7.78 2.81-2.81c.8-.78.8-2.07 0-2.86zM5.41 20L4 18.59l7.72-7.72 1.47 1.35L5.41 20z\"/>\n",
              "  </svg>\n",
              "      </button>\n",
              "      \n",
              "  <style>\n",
              "    .colab-df-container {\n",
              "      display:flex;\n",
              "      flex-wrap:wrap;\n",
              "      gap: 12px;\n",
              "    }\n",
              "\n",
              "    .colab-df-convert {\n",
              "      background-color: #E8F0FE;\n",
              "      border: none;\n",
              "      border-radius: 50%;\n",
              "      cursor: pointer;\n",
              "      display: none;\n",
              "      fill: #1967D2;\n",
              "      height: 32px;\n",
              "      padding: 0 0 0 0;\n",
              "      width: 32px;\n",
              "    }\n",
              "\n",
              "    .colab-df-convert:hover {\n",
              "      background-color: #E2EBFA;\n",
              "      box-shadow: 0px 1px 2px rgba(60, 64, 67, 0.3), 0px 1px 3px 1px rgba(60, 64, 67, 0.15);\n",
              "      fill: #174EA6;\n",
              "    }\n",
              "\n",
              "    [theme=dark] .colab-df-convert {\n",
              "      background-color: #3B4455;\n",
              "      fill: #D2E3FC;\n",
              "    }\n",
              "\n",
              "    [theme=dark] .colab-df-convert:hover {\n",
              "      background-color: #434B5C;\n",
              "      box-shadow: 0px 1px 3px 1px rgba(0, 0, 0, 0.15);\n",
              "      filter: drop-shadow(0px 1px 2px rgba(0, 0, 0, 0.3));\n",
              "      fill: #FFFFFF;\n",
              "    }\n",
              "  </style>\n",
              "\n",
              "      <script>\n",
              "        const buttonEl =\n",
              "          document.querySelector('#df-c8c692ee-942f-4403-a0c0-e921281127dd button.colab-df-convert');\n",
              "        buttonEl.style.display =\n",
              "          google.colab.kernel.accessAllowed ? 'block' : 'none';\n",
              "\n",
              "        async function convertToInteractive(key) {\n",
              "          const element = document.querySelector('#df-c8c692ee-942f-4403-a0c0-e921281127dd');\n",
              "          const dataTable =\n",
              "            await google.colab.kernel.invokeFunction('convertToInteractive',\n",
              "                                                     [key], {});\n",
              "          if (!dataTable) return;\n",
              "\n",
              "          const docLinkHtml = 'Like what you see? Visit the ' +\n",
              "            '<a target=\"_blank\" href=https://colab.research.google.com/notebooks/data_table.ipynb>data table notebook</a>'\n",
              "            + ' to learn more about interactive tables.';\n",
              "          element.innerHTML = '';\n",
              "          dataTable['output_type'] = 'display_data';\n",
              "          await google.colab.output.renderOutput(dataTable, element);\n",
              "          const docLink = document.createElement('div');\n",
              "          docLink.innerHTML = docLinkHtml;\n",
              "          element.appendChild(docLink);\n",
              "        }\n",
              "      </script>\n",
              "    </div>\n",
              "  </div>\n",
              "  "
            ]
          },
          "metadata": {},
          "execution_count": 184
        }
      ],
      "metadata": {
        "colab": {
          "base_uri": "https://localhost:8080/",
          "height": 206
        },
        "id": "7AXSr3rD8PEO",
        "outputId": "280f53b6-d586-4c37-afd0-4d32bf7777e4"
      }
    },
    {
      "cell_type": "code",
      "execution_count": null,
      "source": [
        "#dfFromRDD1.show()\n",
        "#training = training.withColumnRenamed('marsrutas', 'parametrai')\n",
        "\n",
        "# Summarize the model over the training set and print out some metrics\n",
        "trainingSummary = lrModel.summary\n",
        "print(\"numIterations: %d\" % trainingSummary.totalIterations)\n",
        "print(\"objectiveHistory: %s\" % str(trainingSummary.objectiveHistory))\n",
        "print(\"RMSE: %f\" % trainingSummary.rootMeanSquaredError)\n",
        "print(\"r2: %f\" % trainingSummary.r2)\n",
        "# vhouse_df.printSchema()\n",
        "\n",
        "# pandasDF = vhouse_df.toPandas()\n",
        "# pandasDF.head()\n",
        "\n",
        "x = pandasDF['svoris'].to_list()\n",
        "\n",
        "y = pandasDF['BendraKaina'].to_list()\n",
        "\n",
        "import matplotlib.pyplot as plt\n",
        "from matplotlib import cm\n",
        "from matplotlib.ticker import LinearLocator\n",
        "from mpl_toolkits.mplot3d import Axes3D\n",
        "\n",
        "fig, axes = plt.subplots(nrows=1, ncols=3, figsize=(20,5))\n",
        "axes[2].scatter(x,y, s = 10)\n",
        "lineX = [min(x), max(x)]\n",
        "lineY = [a+b*lineX[0],a+b*lineX[1]]\n",
        "axes[2].plot(lineX, lineY)\n",
        "plt.show()"
      ],
      "outputs": [
        {
          "output_type": "stream",
          "name": "stdout",
          "text": [
            "numIterations: 2\n",
            "objectiveHistory: [0.5, 0.48865371036475486, 0.46433986835555974]\n",
            "RMSE: 11.138919\n",
            "r2: 0.082680\n"
          ]
        },
        {
          "output_type": "display_data",
          "data": {
            "text/plain": [
              "<Figure size 1440x360 with 3 Axes>"
            ],
            "image/png": "[encoded data removed]"
          },
          "metadata": {
            "needs_background": "light"
          }
        }
      ],
      "metadata": {
        "colab": {
          "base_uri": "https://localhost:8080/",
          "height": 384
        },
        "id": "ucAUeq6H8bWd",
        "outputId": "360a6702-351f-4baa-d8e7-525c51ac89cb"
      }
    },
    {
      "cell_type": "code",
      "execution_count": null,
      "source": [],
      "outputs": [],
      "metadata": {
        "id": "yyh-H48J8bLa"
      }
    },
    {
      "cell_type": "markdown",
      "source": [
        "-------------------------------------------------"
      ],
      "metadata": {
        "id": "xMJeLCgbAiJH"
      }
    },
    {
      "cell_type": "markdown",
      "source": [
        "-------------------------------------------------"
      ],
      "metadata": {
        "id": "yZNFUnglAw_O"
      }
    },
    {
      "cell_type": "markdown",
      "source": [
        "-------------------------------------------------"
      ],
      "metadata": {
        "id": "jD3kvl7rAxEu"
      }
    },
    {
      "cell_type": "markdown",
      "source": [
        "-------------------------------------------------"
      ],
      "metadata": {
        "id": "Mx5ZFKHyAxHS"
      }
    },
    {
      "cell_type": "markdown",
      "source": [
        "-------------------------------------------------"
      ],
      "metadata": {
        "id": "CjOa46OuAxJq"
      }
    },
    {
      "cell_type": "markdown",
      "source": [
        "-------------------------------------------------"
      ],
      "metadata": {
        "id": "xAqC8e4DAxMX"
      }
    },
    {
      "cell_type": "markdown",
      "source": [
        "-------------------------------------------------"
      ],
      "metadata": {
        "id": "_Ue2f0ctAxOp"
      }
    },
    {
      "cell_type": "markdown",
      "source": [
        "-------------------------------------------------"
      ],
      "metadata": {
        "id": "wBG74cWrAxeo"
      }
    },
    {
      "cell_type": "markdown",
      "source": [
        "-------------------------------------------------"
      ],
      "metadata": {
        "id": "oQ2inEMQAxhB"
      }
    },
    {
      "cell_type": "markdown",
      "source": [
        "-------------------------------------------------"
      ],
      "metadata": {
        "id": "jbdZeR37Axjt"
      }
    },
    {
      "cell_type": "markdown",
      "source": [
        "-------------------------------------------------"
      ],
      "metadata": {
        "id": "_qvli2brAxmG"
      }
    },
    {
      "cell_type": "markdown",
      "source": [
        "-------------------------------------------------"
      ],
      "metadata": {
        "id": "j4oYflzQAxoq"
      }
    },
    {
      "cell_type": "markdown",
      "source": [
        "-------------------------------------------------"
      ],
      "metadata": {
        "id": "ASoNY-SIAxrN"
      }
    },
    {
      "cell_type": "code",
      "execution_count": null,
      "source": [
        "text_file = spark.sparkContext.textFile(\"duom_cut.txt\")\n",
        "\n",
        "def parsinam(line):\n",
        "\treturn line[2:len(line)-2].split('}}{{')\n",
        "\n",
        "def parsinam2(line):\n",
        "\tobjs = line.split('}{')\n",
        "\tk1=None\n",
        "\tk3=None\n",
        "\ttipas= None\n",
        "\tsvoris=None\n",
        "\tfor at in objs:\n",
        "\t\ttemp = at.split('=')\n",
        "\t\tif(len(temp)<2): \n",
        "\t\t\tbreak\n",
        "\t\tkey,val=at.split('=')\n",
        "\t\tif(key == 'marsrutas'):\n",
        "\t\t\tk1=val\n",
        "\t\tif(key == 'sustojimo data'):\n",
        "\t\t\tk3=val\n",
        "\t\tif(key == 'Masinos tipas'):\n",
        "\t\t\ttipas=val\n",
        "\t\tif(key == 'svoris'):\n",
        "\t\t\tsvoris=val\n",
        "\tif(k1!=None and k3!=None and tipas!=None and svoris!=None):\n",
        "\t\treturn (k1+\"_\"+k3, (float(svoris), tipas))\n",
        "\telse:\n",
        "\t\treturn (\"0\", (1, \"blogai\"))\n",
        "  \n",
        "\n",
        "\n",
        "\n",
        "tipai = fmap.map(parsinam2).map(lambda t:(t[1][1],0))\\\n",
        "\t.reduceByKey(lambda a,b : a).map(lambda t:t[0])\n",
        " \n",
        "for tipas in tipai:\n",
        "    fmap = text_file.flatMap(parsinam)\n",
        "\n",
        "    aggregated_rdd = fmap.map(parsinam2) \\\n",
        "        .reduceByKey(lambda a, b: (a[0] + b[0], a[1]))\\\n",
        "        .filter(lambda l : l[1][1] == tipas).map(lambda t: (t[0], t[1][0]))\n",
        "\n",
        "\n",
        "    from pyspark.sql.functions import col, udf\n",
        "    from pyspark.sql.types import StringType\n",
        "\n",
        "\n",
        "\n",
        "\n",
        "\n",
        "\n",
        "    routes = spark.read.option(\"header\",True).csv(\"RouteSummary.txt\", inferSchema=True)\n",
        "    routes.printSchema()\n",
        "    routes = routes.drop(\"M\", \"BendrasAtstumas\",\"BendrasLaikas\",\"BendrasSvoris\")\n",
        "\n",
        "    def makeID(str1, str2):\n",
        "        return str(str1)+\"_\"+str2\n",
        "        \n",
        "    makeID_UDF = udf(lambda z1,z2: makeID(z1,z2),StringType())\n",
        "    routes2 = routes.withColumn('ID', makeID_UDF(\"marsrutas\", \"sustojimo data\")).drop(\"marsrutas\", \"sustojimo data\")\n",
        "\n",
        "    routes = aggregated_rdd.toDF([\"ID\", \"svoris\"])\n",
        "    routes.show()\n",
        "    routes2 = routes2.withColumn(\"BendraKaina\",routes2.BendraKaina.cast('float'))\n",
        "    training = routes.join(routes2, 'ID', \"outer\")\n",
        "    training = training.na.drop(\"any\")\n",
        "\n",
        "\n",
        "\n",
        "\n",
        "\n",
        "\n",
        "    from pyspark.ml.feature import VectorAssembler\n",
        "\n",
        "    vectorAssembler = VectorAssembler(inputCols = ['svoris'], outputCol = 'features')\n",
        "    vhouse_df = vectorAssembler.transform(training)\n",
        "    vhouse_df = vhouse_df.select(['features', 'BendraKaina'])\n",
        "    vhouse_df.show(3)\n",
        "\n",
        "\n",
        "\n",
        "\n",
        "\n",
        "    from pyspark.ml.regression import LinearRegression\n",
        "    lr = LinearRegression(maxIter=10, regParam=0.3, elasticNetParam=0.8, featuresCol = \"features\", labelCol = \"BendraKaina\")\n",
        "\n",
        "    lrModel = lr.fit(vhouse_df)\n",
        "\n",
        "    print(\"Coefficients: %s\" % str(lrModel.coefficients))\n",
        "    print(\"Intercept: %s\" % str(lrModel.intercept))\n",
        "\n",
        "    a=lrModel.intercept\n",
        "    b=lrModel.coefficients[0]\n",
        "    print(f'a={a} + b={b}')\n",
        "\n",
        "    trainingSummary = lrModel.summary\n",
        "    print(\"numIterations: %d\" % trainingSummary.totalIterations)\n",
        "    print(\"objectiveHistory: %s\" % str(trainingSummary.objectiveHistory))\n",
        "    print(\"RMSE: %f\" % trainingSummary.rootMeanSquaredError)\n",
        "    print(\"r2: %f\" % trainingSummary.r2)\n",
        "    x = pandasDF['svoris'].to_list()\n",
        "\n",
        "    y = pandasDF['BendraKaina'].to_list()\n",
        "\n",
        "    import matplotlib.pyplot as plt\n",
        "    from matplotlib import cm\n",
        "    from matplotlib.ticker import LinearLocator\n",
        "    from mpl_toolkits.mplot3d import Axes3D\n",
        "\n",
        "    fig, axes = plt.subplots(nrows=1, ncols=3, figsize=(20,5))\n",
        "    axes[2].scatter(x,y, s = 10)\n",
        "    lineX = [min(x), max(x)]\n",
        "    lineY = [a+b*lineX[0],a+b*lineX[1]]\n",
        "    axes[2].plot(lineX, lineY)\n",
        "    plt.show()\n",
        "\n"
      ],
      "outputs": [],
      "metadata": {
        "id": "RvKSLQFSAs2_"
      }
    }
  ],
  "metadata": {
    "colab": {
      "collapsed_sections": [],
      "name": "lab3.ipynb",
      "provenance": []
    },
    "kernelspec": {
      "name": "python3",
      "display_name": "Python 3.9.7 64-bit"
    },
    "language_info": {
      "name": "python",
      "version": "3.9.7",
      "mimetype": "text/x-python",
      "codemirror_mode": {
        "name": "ipython",
        "version": 3
      },
      "pygments_lexer": "ipython3",
      "nbconvert_exporter": "python",
      "file_extension": ".py"
    },
    "interpreter": {
      "hash": "f25a34d828536eaea94bc98fa02bf2fcbf5af5b65bea44899cc5ad2220dc98c9"
    }
  },
  "nbformat": 4,
  "nbformat_minor": 2
}